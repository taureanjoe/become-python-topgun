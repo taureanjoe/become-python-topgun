{
 "cells": [
  {
   "cell_type": "markdown",
   "metadata": {},
   "source": [
    "We are using the **`requests`** library to retrieve weather data from the OpenWeatherMap API. We pass the city name as a parameter to the **`get_weather_data`** function, which sends a GET request to the API and returns the weather data in JSON format. We then use the **`display_weather_data`** function to extract and display the relevant information from the weather data.\n",
    "\n",
    "Note: You have to replace **`YOUR_API_KEY`** with your own API key, which you can get by signing up for a free account on the OpenWeatherMap website."
   ]
  },
  {
   "cell_type": "code",
   "execution_count": null,
   "metadata": {},
   "outputs": [],
   "source": [
    "# importing required libraries\n",
    "import requests\n"
   ]
  },
  {
   "cell_type": "code",
   "execution_count": null,
   "metadata": {},
   "outputs": [],
   "source": [
    "\n",
    "# connecting to your api\n",
    "\n",
    "def get_weather_data(city):\n",
    "    API_KEY = 'YOUR_API_KEY'\n",
    "    API_ENDPOINT = 'http://api.openweathermap.org/data/2.5/weather'\n",
    "    params = {\n",
    "        'q': city,\n",
    "        'appid': API_KEY,\n",
    "        'units': 'metric'\n",
    "    }\n",
    "\n",
    "    response = requests.get(API_ENDPOINT, params=params)\n",
    "    weather_data = response.json()\n",
    "    return weather_data\n",
    "\n"
   ]
  },
  {
   "cell_type": "code",
   "execution_count": null,
   "metadata": {},
   "outputs": [],
   "source": [
    "def display_weather_data(weather_data):\n",
    "    city_name = weather_data['name']\n",
    "    weather_condition = weather_data['weather'][0]['description']\n",
    "    temperature = weather_data['main']['temp']\n",
    "    pressure = weather_data['main']['pressure']\n",
    "    humidity = weather_data['main']['humidity']\n",
    "\n",
    "    print(f'City: {city_name}')\n",
    "    print(f'Weather condition: {weather_condition}')\n",
    "    print(f'Temperature: {temperature}°C')\n",
    "    print(f'Pressure: {pressure} hPa')\n",
    "    print(f'Humidity: {humidity}%')\n",
    "\n",
    "city = input('Enter the city name: ')\n",
    "weather_data = get_weather_data(city)\n",
    "display_weather_data(weather_data)"
   ]
  },
  {
   "cell_type": "code",
   "execution_count": null,
   "metadata": {},
   "outputs": [],
   "source": []
  }
 ],
 "metadata": {
  "kernelspec": {
   "display_name": "Python 3.10.6 64-bit",
   "language": "python",
   "name": "python3"
  },
  "language_info": {
   "codemirror_mode": {
    "name": "ipython",
    "version": 3
   },
   "file_extension": ".py",
   "mimetype": "text/x-python",
   "name": "python",
   "nbconvert_exporter": "python",
   "pygments_lexer": "ipython3",
   "version": "3.10.6"
  },
  "orig_nbformat": 4,
  "vscode": {
   "interpreter": {
    "hash": "aee8b7b246df8f9039afb4144a1f6fd8d2ca17a180786b69acc140d282b71a49"
   }
  }
 },
 "nbformat": 4,
 "nbformat_minor": 2
}
